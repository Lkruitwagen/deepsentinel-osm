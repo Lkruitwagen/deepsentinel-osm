{
 "cells": [
  {
   "cell_type": "code",
   "execution_count": 1,
   "metadata": {},
   "outputs": [],
   "source": [
    "import numpy as np\n",
    "import json, geojson, overpy, pyproj, logging\n",
    "from shapely import geometry\n",
    "from shapely.ops import transform,linemerge, unary_union, polygonize, cascaded_union\n",
    "from functools import partial\n",
    "import matplotlib.pyplot as plt\n",
    "\n",
    "logging.basicConfig(\n",
    "        level=logging.INFO,\n",
    "        format=\"%(asctime)s - %(levelname)s - %(message)s\",\n",
    "        datefmt=\"%Y-%m-%d %H:%M:%S\",\n",
    "    )\n",
    "\n"
   ]
  },
  {
   "cell_type": "code",
   "execution_count": 16,
   "metadata": {},
   "outputs": [],
   "source": [
    "api = overpy.Overpass()"
   ]
  },
  {
   "cell_type": "code",
   "execution_count": 18,
   "metadata": {},
   "outputs": [
    {
     "data": {
      "text/plain": [
       "'http://overpass-api.de/api/interpreter'"
      ]
     },
     "execution_count": 18,
     "metadata": {},
     "output_type": "execute_result"
    }
   ],
   "source": [
    "api.url"
   ]
  },
  {
   "cell_type": "code",
   "execution_count": 17,
   "metadata": {},
   "outputs": [
    {
     "data": {
      "text/plain": [
       "['__class__',\n",
       " '__delattr__',\n",
       " '__dict__',\n",
       " '__dir__',\n",
       " '__doc__',\n",
       " '__eq__',\n",
       " '__format__',\n",
       " '__ge__',\n",
       " '__getattribute__',\n",
       " '__gt__',\n",
       " '__hash__',\n",
       " '__init__',\n",
       " '__init_subclass__',\n",
       " '__le__',\n",
       " '__lt__',\n",
       " '__module__',\n",
       " '__ne__',\n",
       " '__new__',\n",
       " '__reduce__',\n",
       " '__reduce_ex__',\n",
       " '__repr__',\n",
       " '__setattr__',\n",
       " '__sizeof__',\n",
       " '__str__',\n",
       " '__subclasshook__',\n",
       " '__weakref__',\n",
       " '_regex_extract_error_msg',\n",
       " '_regex_remove_tag',\n",
       " 'default_read_chunk_size',\n",
       " 'default_url',\n",
       " 'parse_json',\n",
       " 'parse_xml',\n",
       " 'query',\n",
       " 'read_chunk_size',\n",
       " 'url',\n",
       " 'xml_parser']"
      ]
     },
     "execution_count": 17,
     "metadata": {},
     "output_type": "execute_result"
    }
   ],
   "source": [
    "dir(api)"
   ]
  },
  {
   "cell_type": "code",
   "execution_count": null,
   "metadata": {},
   "outputs": [],
   "source": []
  },
  {
   "cell_type": "code",
   "execution_count": null,
   "metadata": {},
   "outputs": [],
   "source": []
  },
  {
   "cell_type": "code",
   "execution_count": 2,
   "metadata": {},
   "outputs": [],
   "source": [
    "\n",
    "class LabelCube:\n",
    "    ### Get the data\n",
    "    ### Get the map\n",
    "    ### Get a google basemap or something\n",
    "\n",
    "    def __init__(self, json_path, resolution, side_length):\n",
    "        self.resolution = resolution   #m/pix\n",
    "        self.side_length = side_length  #m\n",
    "        self.labels_json = json.load(open(json_path,'r'))\n",
    "        WGS84 = \"+proj=longlat +ellps=WGS84 +datum=WGS84 +no_defs\"\n",
    "        self.wgs_proj = pyproj.Proj(WGS84)\n",
    "        self.api = overpy.Overpass()\n",
    "        self.json_spec = json.load(open(json_path,'r'))\n",
    "\n",
    "    def get_utm_zone(self, lat,lon):\n",
    "        zone_str = str(int((lon + 180)/6) + 1)\n",
    "\n",
    "        if ((lat>=56.) & (lat<64.) & (lon >=3.) & (lon <12.)):\n",
    "            zone_str = '32'\n",
    "        elif ((lat >= 72.) & (lat <84.)):\n",
    "            if ((lon >=0.) & (lon<9.)):\n",
    "                zone_str = '31'\n",
    "            elif ((lon >=9.) & (lon<21.)):\n",
    "                zone_str = '33'\n",
    "            elif ((lon >=21.) & (lon<33.)):\n",
    "                zone_str = '35'\n",
    "            elif ((lon >=33.) & (lon<42.)):\n",
    "                zone_str = '37'\n",
    "\n",
    "        return zone_str\n",
    "\n",
    "    def _set_utm_proj(self,lat,lon):\n",
    "        self.utm_zone = self.get_utm_zone(lat,lon)\n",
    "        self.utm_proj = pyproj.Proj(proj='utm', zone=self.utm_zone, ellps='WGS84')\n",
    "        self.projection_for = partial(pyproj.transform, self.wgs_proj, self.utm_proj)\n",
    "        self.projection_rev = partial(pyproj.transform, self.utm_proj, self.wgs_proj)\n",
    "\n",
    "\n",
    "    def _get_bbox(self,lat,lon):\n",
    "\n",
    "        pt_utm = transform(self.projection_for,geometry.Point(lat,lon))\n",
    "\n",
    "        bbox_utm = geometry.box(pt_utm.x-self.side_length/2,\n",
    "                                pt_utm.y-self.side_length/2,\n",
    "                                pt_utm.x+self.side_length/2,\n",
    "                                pt_utm.y+self.side_length/2)\n",
    "\n",
    "        self.bbox_ll = transform(self.projection_rev, bbox_utm)\n",
    "        #bb = self.bbox_ll.bounds\n",
    "\n",
    "        #(bb[1],bb[0],bb[3],bb[2])\n",
    "        return self.bbox_ll.bounds\n",
    "\n",
    "\n",
    "    def _parse_osm(self, response):\n",
    "        lss = []\n",
    "        for ii_w,way in enumerate(response.ways):\n",
    "            ls_coords = []\n",
    "            print('way',ii_w)\n",
    "            for node in way.nodes:\n",
    "                ls_coords.append((node.lon,node.lat))\n",
    "            lss.append(geometry.LineString(ls_coords))\n",
    "\n",
    "        merged = linemerge([*lss])\n",
    "        borders = unary_union(merged)\n",
    "        polygons = list(polygonize(borders))\n",
    "        big_geom = cascaded_union(polygons)\n",
    "\n",
    "        if big_geom.type=='MultiPolygon':\n",
    "            return list(big_geom)\n",
    "        elif big_geom.type=='Polygon':\n",
    "            return [big_geom]\n",
    "\n",
    "    def visualise_results(self):\n",
    "        fig, ax = plt.subplots(1,1,figsize=(12,12))\n",
    "        for kk,vv in self.osm_results.items():\n",
    "            rand_col = list(np.random.choice(range(255), size=3)/255)\n",
    "            for pp in vv:\n",
    "                xs, ys = pp.exterior.xy\n",
    "                ax.plot(xs,ys,c=rand_col)\n",
    "            for hole in pp.interiors:\n",
    "                xs,ys = hole.xy\n",
    "                ax.plot(xs,ys,c=rand_col)\n",
    "\n",
    "        plt.show()\n",
    "\n",
    "\n",
    "\n",
    "\n",
    "    def gen_cube(self, lat, lon):\n",
    "        self._set_utm_proj(lat,lon)\n",
    "        bbox = self._get_bbox(lat,lon)\n",
    "\n",
    "        self.osm_results = {}\n",
    "        self.responses = []\n",
    "\n",
    "        for kk,vv in self.json_spec.items():\n",
    "            logging.info(f\"class key: {kk}, tags: {vv}\")\n",
    "            self.osm_results[kk] = []\n",
    "            for item in vv:\n",
    "                logging.info(f\"item: {item}\")\n",
    "\n",
    "                query = \"\"\"[out:json];\n",
    "                        (\n",
    "                        node[{item}]{bbox};\n",
    "                        way[{item}]{bbox};\n",
    "                        rel[{item}]{bbox};\n",
    "                        );\n",
    "                        out geom;\n",
    "                        >;\n",
    "                        out skel qt;\n",
    "                        \"\"\".format(bbox=str(bbox),item=item)\n",
    "\n",
    "                logging.info(f'query:{query}')\n",
    "\n",
    "                response = self.api.query(query)\n",
    "                self.responses.append(response)\n",
    "                print ('response')\n",
    "                print (dir(response))\n",
    "                logging.info(f'n nodes: {len(response.nodes)}, n ways: {len(response.ways)}, n relations: {len(response.relations)}')\n",
    "                self.osm_results[kk] += self._parse_osm(response)"
   ]
  },
  {
   "cell_type": "code",
   "execution_count": 3,
   "metadata": {},
   "outputs": [],
   "source": [
    "labelcube = LabelCube('json_zoo/demo.json',10,350)"
   ]
  },
  {
   "cell_type": "code",
   "execution_count": 4,
   "metadata": {},
   "outputs": [
    {
     "name": "stderr",
     "output_type": "stream",
     "text": [
      "2019-11-30 17:05:59 - INFO - class key: water, tags: ['\"natural\"=\"water\"']\n",
      "2019-11-30 17:05:59 - INFO - item: \"natural\"=\"water\"\n",
      "2019-11-30 17:05:59 - INFO - query:[out:json];\n",
      "                        (\n",
      "                        node[\"natural\"=\"water\"](51.74915420063536, -1.2450298622813625, 51.75101379873122, -1.2431581786531694);\n",
      "                        way[\"natural\"=\"water\"](51.74915420063536, -1.2450298622813625, 51.75101379873122, -1.2431581786531694);\n",
      "                        rel[\"natural\"=\"water\"](51.74915420063536, -1.2450298622813625, 51.75101379873122, -1.2431581786531694);\n",
      "                        );\n",
      "                        out geom;\n",
      "                        >;\n",
      "                        out skel qt;\n",
      "                        \n",
      "2019-11-30 17:06:01 - INFO - n nodes: 992, n ways: 14, n relations: 1\n",
      "2019-11-30 17:06:01 - INFO - class key: building, tags: ['\"building\"']\n",
      "2019-11-30 17:06:01 - INFO - item: \"building\"\n",
      "2019-11-30 17:06:01 - INFO - query:[out:json];\n",
      "                        (\n",
      "                        node[\"building\"](51.74915420063536, -1.2450298622813625, 51.75101379873122, -1.2431581786531694);\n",
      "                        way[\"building\"](51.74915420063536, -1.2450298622813625, 51.75101379873122, -1.2431581786531694);\n",
      "                        rel[\"building\"](51.74915420063536, -1.2450298622813625, 51.75101379873122, -1.2431581786531694);\n",
      "                        );\n",
      "                        out geom;\n",
      "                        >;\n",
      "                        out skel qt;\n",
      "                        \n"
     ]
    },
    {
     "name": "stdout",
     "output_type": "stream",
     "text": [
      "response\n",
      "['__class__', '__delattr__', '__dict__', '__dir__', '__doc__', '__eq__', '__format__', '__ge__', '__getattribute__', '__gt__', '__hash__', '__init__', '__init_subclass__', '__le__', '__lt__', '__module__', '__ne__', '__new__', '__reduce__', '__reduce_ex__', '__repr__', '__setattr__', '__sizeof__', '__str__', '__subclasshook__', '__weakref__', '_areas', '_class_collection_map', '_nodes', '_relations', '_ways', 'api', 'append', 'area_ids', 'areas', 'expand', 'from_json', 'from_xml', 'get_area', 'get_area_ids', 'get_areas', 'get_elements', 'get_ids', 'get_node', 'get_node_ids', 'get_nodes', 'get_relation', 'get_relation_ids', 'get_relations', 'get_way', 'get_way_ids', 'get_ways', 'node_ids', 'nodes', 'relation_ids', 'relations', 'way_ids', 'ways']\n",
      "way 0\n",
      "way 1\n",
      "way 2\n",
      "way 3\n",
      "way 4\n",
      "way 5\n",
      "way 6\n",
      "way 7\n",
      "way 8\n",
      "way 9\n",
      "way 10\n",
      "way 11\n",
      "way 12\n",
      "way 13\n"
     ]
    },
    {
     "name": "stderr",
     "output_type": "stream",
     "text": [
      "2019-11-30 17:06:02 - INFO - n nodes: 313, n ways: 28, n relations: 1\n"
     ]
    },
    {
     "name": "stdout",
     "output_type": "stream",
     "text": [
      "response\n",
      "['__class__', '__delattr__', '__dict__', '__dir__', '__doc__', '__eq__', '__format__', '__ge__', '__getattribute__', '__gt__', '__hash__', '__init__', '__init_subclass__', '__le__', '__lt__', '__module__', '__ne__', '__new__', '__reduce__', '__reduce_ex__', '__repr__', '__setattr__', '__sizeof__', '__str__', '__subclasshook__', '__weakref__', '_areas', '_class_collection_map', '_nodes', '_relations', '_ways', 'api', 'append', 'area_ids', 'areas', 'expand', 'from_json', 'from_xml', 'get_area', 'get_area_ids', 'get_areas', 'get_elements', 'get_ids', 'get_node', 'get_node_ids', 'get_nodes', 'get_relation', 'get_relation_ids', 'get_relations', 'get_way', 'get_way_ids', 'get_ways', 'node_ids', 'nodes', 'relation_ids', 'relations', 'way_ids', 'ways']\n",
      "way 0\n",
      "way 1\n",
      "way 2\n",
      "way 3\n",
      "way 4\n",
      "way 5\n",
      "way 6\n",
      "way 7\n",
      "way 8\n",
      "way 9\n",
      "way 10\n",
      "way 11\n",
      "way 12\n",
      "way 13\n",
      "way 14\n",
      "way 15\n",
      "way 16\n",
      "way 17\n",
      "way 18\n",
      "way 19\n",
      "way 20\n",
      "way 21\n",
      "way 22\n",
      "way 23\n",
      "way 24\n",
      "way 25\n",
      "way 26\n",
      "way 27\n"
     ]
    }
   ],
   "source": [
    "labelcube.gen_cube(51.750084, -1.244094)"
   ]
  },
  {
   "cell_type": "code",
   "execution_count": 13,
   "metadata": {},
   "outputs": [
    {
     "data": {
      "text/plain": [
       "<method-wrapper '__str__' of Result object at 0x7fe5008e1748>"
      ]
     },
     "execution_count": 13,
     "metadata": {},
     "output_type": "execute_result"
    }
   ],
   "source": [
    "labelcube.responses[0].__str__"
   ]
  },
  {
   "cell_type": "code",
   "execution_count": 14,
   "metadata": {},
   "outputs": [
    {
     "ename": "TypeError",
     "evalue": "Object of type Result is not JSON serializable",
     "output_type": "error",
     "traceback": [
      "\u001b[0;31m---------------------------------------------------------------------------\u001b[0m",
      "\u001b[0;31mTypeError\u001b[0m                                 Traceback (most recent call last)",
      "\u001b[0;32m<ipython-input-14-54e56c3466ba>\u001b[0m in \u001b[0;36m<module>\u001b[0;34m\u001b[0m\n\u001b[0;32m----> 1\u001b[0;31m \u001b[0mgeojson\u001b[0m\u001b[0;34m.\u001b[0m\u001b[0mdumps\u001b[0m\u001b[0;34m(\u001b[0m\u001b[0mlabelcube\u001b[0m\u001b[0;34m.\u001b[0m\u001b[0mresponses\u001b[0m\u001b[0;34m[\u001b[0m\u001b[0;36m0\u001b[0m\u001b[0;34m]\u001b[0m\u001b[0;34m)\u001b[0m\u001b[0;34m\u001b[0m\u001b[0;34m\u001b[0m\u001b[0m\n\u001b[0m",
      "\u001b[0;32m~/miniconda3/envs/ML_py3/lib/python3.6/site-packages/geojson/codec.py\u001b[0m in \u001b[0;36mdumps\u001b[0;34m(obj, cls, allow_nan, **kwargs)\u001b[0m\n\u001b[1;32m     29\u001b[0m \u001b[0;34m\u001b[0m\u001b[0m\n\u001b[1;32m     30\u001b[0m \u001b[0;32mdef\u001b[0m \u001b[0mdumps\u001b[0m\u001b[0;34m(\u001b[0m\u001b[0mobj\u001b[0m\u001b[0;34m,\u001b[0m \u001b[0mcls\u001b[0m\u001b[0;34m=\u001b[0m\u001b[0mGeoJSONEncoder\u001b[0m\u001b[0;34m,\u001b[0m \u001b[0mallow_nan\u001b[0m\u001b[0;34m=\u001b[0m\u001b[0;32mFalse\u001b[0m\u001b[0;34m,\u001b[0m \u001b[0;34m**\u001b[0m\u001b[0mkwargs\u001b[0m\u001b[0;34m)\u001b[0m\u001b[0;34m:\u001b[0m\u001b[0;34m\u001b[0m\u001b[0;34m\u001b[0m\u001b[0m\n\u001b[0;32m---> 31\u001b[0;31m     return json.dumps(to_mapping(obj),\n\u001b[0m\u001b[1;32m     32\u001b[0m                       cls=cls, allow_nan=allow_nan, **kwargs)\n\u001b[1;32m     33\u001b[0m \u001b[0;34m\u001b[0m\u001b[0m\n",
      "\u001b[0;32m~/miniconda3/envs/ML_py3/lib/python3.6/site-packages/geojson/mapping.py\u001b[0m in \u001b[0;36mto_mapping\u001b[0;34m(obj)\u001b[0m\n\u001b[1;32m     39\u001b[0m         \u001b[0;32mreturn\u001b[0m \u001b[0mdict\u001b[0m\u001b[0;34m(\u001b[0m\u001b[0mobj\u001b[0m\u001b[0;34m)\u001b[0m\u001b[0;34m\u001b[0m\u001b[0;34m\u001b[0m\u001b[0m\n\u001b[1;32m     40\u001b[0m \u001b[0;34m\u001b[0m\u001b[0m\n\u001b[0;32m---> 41\u001b[0;31m     \u001b[0;32mreturn\u001b[0m \u001b[0mjson\u001b[0m\u001b[0;34m.\u001b[0m\u001b[0mloads\u001b[0m\u001b[0;34m(\u001b[0m\u001b[0mjson\u001b[0m\u001b[0;34m.\u001b[0m\u001b[0mdumps\u001b[0m\u001b[0;34m(\u001b[0m\u001b[0mobj\u001b[0m\u001b[0;34m)\u001b[0m\u001b[0;34m)\u001b[0m\u001b[0;34m\u001b[0m\u001b[0;34m\u001b[0m\u001b[0m\n\u001b[0m",
      "\u001b[0;32m~/miniconda3/envs/ML_py3/lib/python3.6/site-packages/simplejson/__init__.py\u001b[0m in \u001b[0;36mdumps\u001b[0;34m(obj, skipkeys, ensure_ascii, check_circular, allow_nan, cls, indent, separators, encoding, default, use_decimal, namedtuple_as_object, tuple_as_array, bigint_as_string, sort_keys, item_sort_key, for_json, ignore_nan, int_as_string_bitcount, iterable_as_array, **kw)\u001b[0m\n\u001b[1;32m    380\u001b[0m         \u001b[0;32mand\u001b[0m \u001b[0;32mnot\u001b[0m \u001b[0mkw\u001b[0m\u001b[0;34m\u001b[0m\u001b[0;34m\u001b[0m\u001b[0m\n\u001b[1;32m    381\u001b[0m     ):\n\u001b[0;32m--> 382\u001b[0;31m         \u001b[0;32mreturn\u001b[0m \u001b[0m_default_encoder\u001b[0m\u001b[0;34m.\u001b[0m\u001b[0mencode\u001b[0m\u001b[0;34m(\u001b[0m\u001b[0mobj\u001b[0m\u001b[0;34m)\u001b[0m\u001b[0;34m\u001b[0m\u001b[0;34m\u001b[0m\u001b[0m\n\u001b[0m\u001b[1;32m    383\u001b[0m     \u001b[0;32mif\u001b[0m \u001b[0mcls\u001b[0m \u001b[0;32mis\u001b[0m \u001b[0;32mNone\u001b[0m\u001b[0;34m:\u001b[0m\u001b[0;34m\u001b[0m\u001b[0;34m\u001b[0m\u001b[0m\n\u001b[1;32m    384\u001b[0m         \u001b[0mcls\u001b[0m \u001b[0;34m=\u001b[0m \u001b[0mJSONEncoder\u001b[0m\u001b[0;34m\u001b[0m\u001b[0;34m\u001b[0m\u001b[0m\n",
      "\u001b[0;32m~/miniconda3/envs/ML_py3/lib/python3.6/site-packages/simplejson/encoder.py\u001b[0m in \u001b[0;36mencode\u001b[0;34m(self, o)\u001b[0m\n\u001b[1;32m    294\u001b[0m         \u001b[0;31m# exceptions aren't as detailed.  The list call should be roughly\u001b[0m\u001b[0;34m\u001b[0m\u001b[0;34m\u001b[0m\u001b[0;34m\u001b[0m\u001b[0m\n\u001b[1;32m    295\u001b[0m         \u001b[0;31m# equivalent to the PySequence_Fast that ''.join() would do.\u001b[0m\u001b[0;34m\u001b[0m\u001b[0;34m\u001b[0m\u001b[0;34m\u001b[0m\u001b[0m\n\u001b[0;32m--> 296\u001b[0;31m         \u001b[0mchunks\u001b[0m \u001b[0;34m=\u001b[0m \u001b[0mself\u001b[0m\u001b[0;34m.\u001b[0m\u001b[0miterencode\u001b[0m\u001b[0;34m(\u001b[0m\u001b[0mo\u001b[0m\u001b[0;34m,\u001b[0m \u001b[0m_one_shot\u001b[0m\u001b[0;34m=\u001b[0m\u001b[0;32mTrue\u001b[0m\u001b[0;34m)\u001b[0m\u001b[0;34m\u001b[0m\u001b[0;34m\u001b[0m\u001b[0m\n\u001b[0m\u001b[1;32m    297\u001b[0m         \u001b[0;32mif\u001b[0m \u001b[0;32mnot\u001b[0m \u001b[0misinstance\u001b[0m\u001b[0;34m(\u001b[0m\u001b[0mchunks\u001b[0m\u001b[0;34m,\u001b[0m \u001b[0;34m(\u001b[0m\u001b[0mlist\u001b[0m\u001b[0;34m,\u001b[0m \u001b[0mtuple\u001b[0m\u001b[0;34m)\u001b[0m\u001b[0;34m)\u001b[0m\u001b[0;34m:\u001b[0m\u001b[0;34m\u001b[0m\u001b[0;34m\u001b[0m\u001b[0m\n\u001b[1;32m    298\u001b[0m             \u001b[0mchunks\u001b[0m \u001b[0;34m=\u001b[0m \u001b[0mlist\u001b[0m\u001b[0;34m(\u001b[0m\u001b[0mchunks\u001b[0m\u001b[0;34m)\u001b[0m\u001b[0;34m\u001b[0m\u001b[0;34m\u001b[0m\u001b[0m\n",
      "\u001b[0;32m~/miniconda3/envs/ML_py3/lib/python3.6/site-packages/simplejson/encoder.py\u001b[0m in \u001b[0;36miterencode\u001b[0;34m(self, o, _one_shot)\u001b[0m\n\u001b[1;32m    376\u001b[0m                 self.iterable_as_array, Decimal=decimal.Decimal)\n\u001b[1;32m    377\u001b[0m         \u001b[0;32mtry\u001b[0m\u001b[0;34m:\u001b[0m\u001b[0;34m\u001b[0m\u001b[0;34m\u001b[0m\u001b[0m\n\u001b[0;32m--> 378\u001b[0;31m             \u001b[0;32mreturn\u001b[0m \u001b[0m_iterencode\u001b[0m\u001b[0;34m(\u001b[0m\u001b[0mo\u001b[0m\u001b[0;34m,\u001b[0m \u001b[0;36m0\u001b[0m\u001b[0;34m)\u001b[0m\u001b[0;34m\u001b[0m\u001b[0;34m\u001b[0m\u001b[0m\n\u001b[0m\u001b[1;32m    379\u001b[0m         \u001b[0;32mfinally\u001b[0m\u001b[0;34m:\u001b[0m\u001b[0;34m\u001b[0m\u001b[0;34m\u001b[0m\u001b[0m\n\u001b[1;32m    380\u001b[0m             \u001b[0mkey_memo\u001b[0m\u001b[0;34m.\u001b[0m\u001b[0mclear\u001b[0m\u001b[0;34m(\u001b[0m\u001b[0;34m)\u001b[0m\u001b[0;34m\u001b[0m\u001b[0;34m\u001b[0m\u001b[0m\n",
      "\u001b[0;32m~/miniconda3/envs/ML_py3/lib/python3.6/site-packages/simplejson/encoder.py\u001b[0m in \u001b[0;36mdefault\u001b[0;34m(self, o)\u001b[0m\n\u001b[1;32m    271\u001b[0m         \"\"\"\n\u001b[1;32m    272\u001b[0m         raise TypeError('Object of type %s is not JSON serializable' %\n\u001b[0;32m--> 273\u001b[0;31m                         o.__class__.__name__)\n\u001b[0m\u001b[1;32m    274\u001b[0m \u001b[0;34m\u001b[0m\u001b[0m\n\u001b[1;32m    275\u001b[0m     \u001b[0;32mdef\u001b[0m \u001b[0mencode\u001b[0m\u001b[0;34m(\u001b[0m\u001b[0mself\u001b[0m\u001b[0;34m,\u001b[0m \u001b[0mo\u001b[0m\u001b[0;34m)\u001b[0m\u001b[0;34m:\u001b[0m\u001b[0;34m\u001b[0m\u001b[0;34m\u001b[0m\u001b[0m\n",
      "\u001b[0;31mTypeError\u001b[0m: Object of type Result is not JSON serializable"
     ]
    }
   ],
   "source": [
    "geojson.dumps(labelcube.responses[0])"
   ]
  },
  {
   "cell_type": "code",
   "execution_count": null,
   "metadata": {},
   "outputs": [],
   "source": []
  },
  {
   "cell_type": "code",
   "execution_count": 63,
   "metadata": {},
   "outputs": [
    {
     "name": "stdout",
     "output_type": "stream",
     "text": [
      "Polygon\n"
     ]
    }
   ],
   "source": [
    "def reduce_member_geoms(members):\n",
    "    lss = []\n",
    "    for member in members:\n",
    "        ls_coords = []\n",
    "        for geom in member.geometry:\n",
    "            ls_coords.append((geom.lon,geom.lat))\n",
    "        lss.append(geometry.LineString(ls_coords))\n",
    "        \n",
    "    merged = linemerge([*lss])\n",
    "\n",
    "    borders = unary_union(merged)\n",
    "\n",
    "    polygons = list(polygonize(borders))\n",
    "\n",
    "    big_geom = cascaded_union(polygons)\n",
    "    \n",
    "    return big_geom\n",
    "        \n",
    "\n",
    "def parse_relation_geom(members):\n",
    "    outer_mems = [mem for mem in members if mem.role in ['outer','part']]\n",
    "    inner_mems = [mem for mem in members if mem.role=='inner']\n",
    "    \n",
    "    outer_geom = reduce_member_geoms(outer_mems)\n",
    "    inner_geom = reduce_member_geoms(inner_mems)\n",
    "    \n",
    "    rel_geom = outer_geom.difference(inner_geom)\n",
    "    \n",
    "    return rel_geom\n",
    "    \n",
    "#print (labelcube.responses[0].relations[0].members[0].geometry)\n",
    "rel_geom = parse_relation_geom(labelcube.responses[1].relations[0].members)\n",
    "\n",
    "print (rel_geom.type)"
   ]
  },
  {
   "cell_type": "code",
   "execution_count": 70,
   "metadata": {},
   "outputs": [
    {
     "data": {
      "text/plain": [
       "<overpy.Way id=46671729 nodes=[597186234, 597186231, 597186230, 3897201548, 5480637471, 920273878, 920273835, 596422858, 597186217, 5480633019, 1330548217, 5480633020, 597186218, 597186220, 597186222, 5480639124, 5480639123, 597186221, 597186210, 597186224, 458160256, 458160280, 2973379294, 5480637469, 1872483274, 3669237192, 29548830, 8089064, 597186238, 915580566, 8089092, 915580668, 8089093, 915580721, 8089094, 915580800, 915580902, 915580631, 915580811, 915580886, 915580650, 8089096, 8089097, 915580587, 915580641, 915580733, 915580843, 29548887, 915580783, 915580914, 915580639, 915580760, 915580614, 915580836, 915580874, 915580595, 915580599, 8089101, 2495602999, 920199507, 920199436, 920199652, 920199617, 920199532, 920199460, 920199413, 920199472, 920199420, 920199605, 5480614956, 920199518, 920199490, 920199440, 920199629, 920199558, 920199582, 920199616, 920199412, 920199410, 920199526, 920199585, 920199516, 5480588153, 5480588152, 920199626, 920199418, 920199533, 920199618, 920199466, 920199434, 920199648, 920199544, 920199457, 920199474, 2495603002, 26870047, 920273866, 920273876, 920273905, 920273912, 5480588157, 920273913, 5480588154, 920273891, 920273794, 920273841, 5480630303, 920273812, 5480630304, 920273814, 920273808, 5480630300, 920273844, 5480630299, 920273897, 920273799, 920273906, 920273862, 920273834, 920273823, 920273920, 920273877, 336045278, 920273849, 920273911, 920273882, 920273838, 920273813, 920273793, 597186234]>"
      ]
     },
     "execution_count": 70,
     "metadata": {},
     "output_type": "execute_result"
    }
   ],
   "source": [
    "labelcube.responses[0].ways[0]"
   ]
  },
  {
   "cell_type": "code",
   "execution_count": 66,
   "metadata": {},
   "outputs": [
    {
     "name": "stdout",
     "output_type": "stream",
     "text": [
      "{}\n",
      "{}\n",
      "{}\n",
      "{}\n",
      "{}\n",
      "{}\n",
      "{}\n",
      "{}\n",
      "{}\n",
      "{}\n",
      "{}\n",
      "{}\n",
      "{}\n",
      "{}\n"
     ]
    }
   ],
   "source": [
    "for r in labelcube.responses[0].relations:\n",
    "    for m in r.members:\n",
    "        print (m.attributes)"
   ]
  },
  {
   "cell_type": "code",
   "execution_count": 15,
   "metadata": {},
   "outputs": [
    {
     "name": "stdout",
     "output_type": "stream",
     "text": [
      "<overpy.Result object at 0x7fe5008e1748>\n"
     ]
    }
   ],
   "source": [
    "print (labelcube.responses[0])"
   ]
  },
  {
   "cell_type": "code",
   "execution_count": 32,
   "metadata": {},
   "outputs": [
    {
     "data": {
      "text/plain": [
       "<overpy.RelationWay ref=176982921 role=outer>"
      ]
     },
     "execution_count": 32,
     "metadata": {},
     "output_type": "execute_result"
    }
   ],
   "source": [
    "labelcube.responses[0].relations[0].members[0]"
   ]
  },
  {
   "cell_type": "code",
   "execution_count": 29,
   "metadata": {},
   "outputs": [
    {
     "data": {
      "text/plain": [
       "['__class__',\n",
       " '__delattr__',\n",
       " '__dict__',\n",
       " '__dir__',\n",
       " '__doc__',\n",
       " '__eq__',\n",
       " '__format__',\n",
       " '__ge__',\n",
       " '__getattribute__',\n",
       " '__gt__',\n",
       " '__hash__',\n",
       " '__init__',\n",
       " '__init_subclass__',\n",
       " '__le__',\n",
       " '__lt__',\n",
       " '__module__',\n",
       " '__ne__',\n",
       " '__new__',\n",
       " '__reduce__',\n",
       " '__reduce_ex__',\n",
       " '__repr__',\n",
       " '__setattr__',\n",
       " '__sizeof__',\n",
       " '__str__',\n",
       " '__subclasshook__',\n",
       " '__weakref__',\n",
       " 'lat',\n",
       " 'lon']"
      ]
     },
     "execution_count": 29,
     "metadata": {},
     "output_type": "execute_result"
    }
   ],
   "source": [
    "dir(labelcube.responses[0].relations[0].members[0].geometry[0])"
   ]
  },
  {
   "cell_type": "code",
   "execution_count": 22,
   "metadata": {},
   "outputs": [
    {
     "data": {
      "text/plain": [
       "['__class__',\n",
       " '__delattr__',\n",
       " '__dict__',\n",
       " '__dir__',\n",
       " '__doc__',\n",
       " '__eq__',\n",
       " '__format__',\n",
       " '__ge__',\n",
       " '__getattribute__',\n",
       " '__gt__',\n",
       " '__hash__',\n",
       " '__init__',\n",
       " '__init_subclass__',\n",
       " '__le__',\n",
       " '__lt__',\n",
       " '__module__',\n",
       " '__ne__',\n",
       " '__new__',\n",
       " '__reduce__',\n",
       " '__reduce_ex__',\n",
       " '__repr__',\n",
       " '__setattr__',\n",
       " '__sizeof__',\n",
       " '__str__',\n",
       " '__subclasshook__',\n",
       " '__weakref__',\n",
       " '_attribute_modifiers',\n",
       " '_result',\n",
       " '_type_value',\n",
       " 'attributes',\n",
       " 'center_lat',\n",
       " 'center_lon',\n",
       " 'from_json',\n",
       " 'from_xml',\n",
       " 'get_center_from_json',\n",
       " 'get_center_from_xml_dom',\n",
       " 'id',\n",
       " 'members',\n",
       " 'tags']"
      ]
     },
     "execution_count": 22,
     "metadata": {},
     "output_type": "execute_result"
    }
   ],
   "source": [
    "dir(labelcube.responses[0].relations[0])"
   ]
  },
  {
   "cell_type": "code",
   "execution_count": null,
   "metadata": {},
   "outputs": [],
   "source": []
  }
 ],
 "metadata": {
  "kernelspec": {
   "display_name": "Python 3",
   "language": "python",
   "name": "python3"
  },
  "language_info": {
   "codemirror_mode": {
    "name": "ipython",
    "version": 3
   },
   "file_extension": ".py",
   "mimetype": "text/x-python",
   "name": "python",
   "nbconvert_exporter": "python",
   "pygments_lexer": "ipython3",
   "version": "3.7.6"
  },
  "toc": {
   "base_numbering": 1,
   "nav_menu": {},
   "number_sections": true,
   "sideBar": true,
   "skip_h1_title": false,
   "title_cell": "Table of Contents",
   "title_sidebar": "Contents",
   "toc_cell": false,
   "toc_position": {
    "height": "calc(100% - 180px)",
    "left": "10px",
    "top": "150px",
    "width": "369.188px"
   },
   "toc_section_display": true,
   "toc_window_display": true
  }
 },
 "nbformat": 4,
 "nbformat_minor": 2
}
